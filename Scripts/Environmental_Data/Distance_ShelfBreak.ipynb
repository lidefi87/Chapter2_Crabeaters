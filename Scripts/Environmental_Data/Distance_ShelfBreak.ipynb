{
 "cells": [
  {
   "cell_type": "markdown",
   "id": "d5a466a9-0be2-48ea-8648-49ad2c97a359",
   "metadata": {},
   "source": [
    "<font size=\"8\"> **Calculating distance to shelf break** </font>  \n",
    "The continental shelf is often defined as the 1,000 m depth contour. The closest depth in the ACCESS-OM2-01 model grid is 1,017 metres, so we will be using this as the depth contour that defines the continental shelf around Antarctica. We will use `temperature`, a three dimensional output, for a single month, from which we will identify the location of the continental shelf break.\n",
    "  \n",
    "In this notebook, we will create a base contour line for the shelf break (1,017 metre depth), which will have a point at the centre of each grid. This base contour line will be post-processed in QGIS to extract a single line representing the continental shelf surrounding Antarctica. In other words, any additional areas with a depth of 1,017 meters will be removed manually from the base contour line produced here.  \n",
    "  \n",
    "Finally, we will load the corrected contour line for the shelf and calculate the distance from every grid cell in our original data to the closest point along the shelf break.  \n",
    "  \n",
    "**Note:** A copy of the corrected contour line along the shelf is provided in this repository."
   ]
  },
  {
   "cell_type": "markdown",
   "id": "a1f557e4-e28d-467f-a2ec-72570f04ba2f",
   "metadata": {},
   "source": [
    "# Setting working directory\n",
    "In order to ensure these notebooks work correctly, we will set the working directory. We assume that you have saved a copy of this repository in your home directory (represented by `~` in the code chunk below). If you have saved this repository elsewhere in your machine, you need to ensure you update this line with the correct filepath where you saved these notebooks."
   ]
  },
  {
   "cell_type": "code",
   "execution_count": 1,
   "id": "ce41a656-fc43-470d-b1a0-21842a410a29",
   "metadata": {
    "tags": []
   },
   "outputs": [],
   "source": [
    "import os\n",
    "os.chdir(os.path.expanduser('~/Chapter2_Crabeaters/Scripts'))"
   ]
  },
  {
   "cell_type": "markdown",
   "id": "3df39598-3b8d-4fae-956d-f50399f3aaaf",
   "metadata": {},
   "source": [
    "# Loading modules"
   ]
  },
  {
   "cell_type": "code",
   "execution_count": 2,
   "id": "5d591a48-9911-4c59-a8ee-481d883777cc",
   "metadata": {},
   "outputs": [],
   "source": [
    "#Accessing model data\n",
    "import cosima_cookbook as cc\n",
    "#Dealing with data\n",
    "import xarray as xr\n",
    "import numpy as np\n",
    "#Data visualisation\n",
    "import matplotlib.pyplot as plt\n",
    "import cartopy.feature as cft\n",
    "import cartopy.crs as ccrs\n",
    "#Collection of useful functions developed for this project\n",
    "import UsefulFunctions as uf\n",
    "#Useful package to deal with file paths\n",
    "from glob import glob\n",
    "#Parallelising work\n",
    "from dask.distributed import Client\n",
    "#Spatial analysis (extracting contour lines)\n",
    "import rioxarray\n",
    "from osgeo import osr\n",
    "from osgeo import ogr\n",
    "from osgeo import gdal\n",
    "import geopandas as gp\n",
    "from shapely.geometry import Point\n",
    "from sklearn.neighbors import BallTree"
   ]
  },
  {
   "cell_type": "markdown",
   "id": "0c912804-aaa6-42ca-9268-7c054a0e9627",
   "metadata": {},
   "source": [
    "# Defining dictionary of useful variables\n",
    "In this dictionary we will define a variables that will be used multiple times throughout this notebook to avoid repetition. It will mostly contain paths to folders where intermediate or final outputs will be stored."
   ]
  },
  {
   "cell_type": "code",
   "execution_count": 3,
   "id": "f29da6e4-5eed-4619-a363-5b1981c8f91d",
   "metadata": {
    "tags": []
   },
   "outputs": [],
   "source": [
    "varDict = {'var_mod': 'temp',\n",
    "           'model': 'ACCESS-OM2-01',\n",
    "           'exp': '01deg_jra55v140_iaf_cycle4',\n",
    "           'freq': '1 monthly',\n",
    "           'base_folder': '/g/data/v45/la6889/Chapter2_Crabeaters/Static_Variables'}"
   ]
  },
  {
   "cell_type": "markdown",
   "id": "f95ceb03-d722-49c3-b4cb-71bd9e0b1304",
   "metadata": {},
   "source": [
    "# Creating a session in the COSIMA cookbook"
   ]
  },
  {
   "cell_type": "code",
   "execution_count": 4,
   "id": "5076a238-0d66-4c10-8f95-b6de4824a47a",
   "metadata": {
    "tags": []
   },
   "outputs": [],
   "source": [
    "session = cc.database.create_session()"
   ]
  },
  {
   "cell_type": "markdown",
   "id": "c45e1335-cd0b-4773-9e8f-4df654d38aa8",
   "metadata": {},
   "source": [
    "# Accessing ACCESS-OM2-01 data\n",
    "First, we will start a cluster with multiple cores to make analysis faster. Remember the number of CPUs cannot exceed the CPUs you have access to."
   ]
  },
  {
   "cell_type": "code",
   "execution_count": 4,
   "id": "1532e5d3-bb17-4c06-99cf-101d095520ff",
   "metadata": {
    "tags": []
   },
   "outputs": [
    {
     "name": "stderr",
     "output_type": "stream",
     "text": [
      "2023-05-01 15:22:07,841 - distributed.diskutils - INFO - Found stale lock file and directory '/jobfs/82314268.gadi-pbs/dask-worker-space/worker-8wccxbxu', purging\n",
      "2023-05-01 15:22:07,842 - distributed.diskutils - INFO - Found stale lock file and directory '/jobfs/82314268.gadi-pbs/dask-worker-space/worker-jfqd98kx', purging\n",
      "2023-05-01 15:22:07,842 - distributed.diskutils - INFO - Found stale lock file and directory '/jobfs/82314268.gadi-pbs/dask-worker-space/worker-5scclqg6', purging\n",
      "2023-05-01 15:22:07,842 - distributed.diskutils - INFO - Found stale lock file and directory '/jobfs/82314268.gadi-pbs/dask-worker-space/worker-vky7nvab', purging\n"
     ]
    },
    {
     "data": {
      "text/html": [
       "<div>\n",
       "    <div style=\"width: 24px; height: 24px; background-color: #e1e1e1; border: 3px solid #9D9D9D; border-radius: 5px; position: absolute;\"> </div>\n",
       "    <div style=\"margin-left: 48px;\">\n",
       "        <h3 style=\"margin-bottom: 0px;\">Client</h3>\n",
       "        <p style=\"color: #9D9D9D; margin-bottom: 0px;\">Client-15a540d6-e7e0-11ed-b222-00000765fe80</p>\n",
       "        <table style=\"width: 100%; text-align: left;\">\n",
       "\n",
       "        <tr>\n",
       "        \n",
       "            <td style=\"text-align: left;\"><strong>Connection method:</strong> Cluster object</td>\n",
       "            <td style=\"text-align: left;\"><strong>Cluster type:</strong> distributed.LocalCluster</td>\n",
       "        \n",
       "        </tr>\n",
       "\n",
       "        \n",
       "            <tr>\n",
       "                <td style=\"text-align: left;\">\n",
       "                    <strong>Dashboard: </strong> <a href=\"/proxy/41715/status\" target=\"_blank\">/proxy/41715/status</a>\n",
       "                </td>\n",
       "                <td style=\"text-align: left;\"></td>\n",
       "            </tr>\n",
       "        \n",
       "\n",
       "        </table>\n",
       "\n",
       "        \n",
       "\n",
       "        \n",
       "            <details>\n",
       "            <summary style=\"margin-bottom: 20px;\"><h3 style=\"display: inline;\">Cluster Info</h3></summary>\n",
       "            <div class=\"jp-RenderedHTMLCommon jp-RenderedHTML jp-mod-trusted jp-OutputArea-output\">\n",
       "    <div style=\"width: 24px; height: 24px; background-color: #e1e1e1; border: 3px solid #9D9D9D; border-radius: 5px; position: absolute;\">\n",
       "    </div>\n",
       "    <div style=\"margin-left: 48px;\">\n",
       "        <h3 style=\"margin-bottom: 0px; margin-top: 0px;\">LocalCluster</h3>\n",
       "        <p style=\"color: #9D9D9D; margin-bottom: 0px;\">0d2e9b63</p>\n",
       "        <table style=\"width: 100%; text-align: left;\">\n",
       "            <tr>\n",
       "                <td style=\"text-align: left;\">\n",
       "                    <strong>Dashboard:</strong> <a href=\"/proxy/41715/status\" target=\"_blank\">/proxy/41715/status</a>\n",
       "                </td>\n",
       "                <td style=\"text-align: left;\">\n",
       "                    <strong>Workers:</strong> 4\n",
       "                </td>\n",
       "            </tr>\n",
       "            <tr>\n",
       "                <td style=\"text-align: left;\">\n",
       "                    <strong>Total threads:</strong> 8\n",
       "                </td>\n",
       "                <td style=\"text-align: left;\">\n",
       "                    <strong>Total memory:</strong> 32.00 GiB\n",
       "                </td>\n",
       "            </tr>\n",
       "            \n",
       "            <tr>\n",
       "    <td style=\"text-align: left;\"><strong>Status:</strong> running</td>\n",
       "    <td style=\"text-align: left;\"><strong>Using processes:</strong> True</td>\n",
       "</tr>\n",
       "\n",
       "            \n",
       "        </table>\n",
       "\n",
       "        <details>\n",
       "            <summary style=\"margin-bottom: 20px;\">\n",
       "                <h3 style=\"display: inline;\">Scheduler Info</h3>\n",
       "            </summary>\n",
       "\n",
       "            <div style=\"\">\n",
       "    <div>\n",
       "        <div style=\"width: 24px; height: 24px; background-color: #FFF7E5; border: 3px solid #FF6132; border-radius: 5px; position: absolute;\"> </div>\n",
       "        <div style=\"margin-left: 48px;\">\n",
       "            <h3 style=\"margin-bottom: 0px;\">Scheduler</h3>\n",
       "            <p style=\"color: #9D9D9D; margin-bottom: 0px;\">Scheduler-df6b71cd-fc2d-46d8-8cc9-457c1b67ac91</p>\n",
       "            <table style=\"width: 100%; text-align: left;\">\n",
       "                <tr>\n",
       "                    <td style=\"text-align: left;\">\n",
       "                        <strong>Comm:</strong> tcp://127.0.0.1:37697\n",
       "                    </td>\n",
       "                    <td style=\"text-align: left;\">\n",
       "                        <strong>Workers:</strong> 4\n",
       "                    </td>\n",
       "                </tr>\n",
       "                <tr>\n",
       "                    <td style=\"text-align: left;\">\n",
       "                        <strong>Dashboard:</strong> <a href=\"/proxy/41715/status\" target=\"_blank\">/proxy/41715/status</a>\n",
       "                    </td>\n",
       "                    <td style=\"text-align: left;\">\n",
       "                        <strong>Total threads:</strong> 8\n",
       "                    </td>\n",
       "                </tr>\n",
       "                <tr>\n",
       "                    <td style=\"text-align: left;\">\n",
       "                        <strong>Started:</strong> Just now\n",
       "                    </td>\n",
       "                    <td style=\"text-align: left;\">\n",
       "                        <strong>Total memory:</strong> 32.00 GiB\n",
       "                    </td>\n",
       "                </tr>\n",
       "            </table>\n",
       "        </div>\n",
       "    </div>\n",
       "\n",
       "    <details style=\"margin-left: 48px;\">\n",
       "        <summary style=\"margin-bottom: 20px;\">\n",
       "            <h3 style=\"display: inline;\">Workers</h3>\n",
       "        </summary>\n",
       "\n",
       "        \n",
       "        <div style=\"margin-bottom: 20px;\">\n",
       "            <div style=\"width: 24px; height: 24px; background-color: #DBF5FF; border: 3px solid #4CC9FF; border-radius: 5px; position: absolute;\"> </div>\n",
       "            <div style=\"margin-left: 48px;\">\n",
       "            <details>\n",
       "                <summary>\n",
       "                    <h4 style=\"margin-bottom: 0px; display: inline;\">Worker: 0</h4>\n",
       "                </summary>\n",
       "                <table style=\"width: 100%; text-align: left;\">\n",
       "                    <tr>\n",
       "                        <td style=\"text-align: left;\">\n",
       "                            <strong>Comm: </strong> tcp://127.0.0.1:33017\n",
       "                        </td>\n",
       "                        <td style=\"text-align: left;\">\n",
       "                            <strong>Total threads: </strong> 2\n",
       "                        </td>\n",
       "                    </tr>\n",
       "                    <tr>\n",
       "                        <td style=\"text-align: left;\">\n",
       "                            <strong>Dashboard: </strong> <a href=\"/proxy/38755/status\" target=\"_blank\">/proxy/38755/status</a>\n",
       "                        </td>\n",
       "                        <td style=\"text-align: left;\">\n",
       "                            <strong>Memory: </strong> 8.00 GiB\n",
       "                        </td>\n",
       "                    </tr>\n",
       "                    <tr>\n",
       "                        <td style=\"text-align: left;\">\n",
       "                            <strong>Nanny: </strong> tcp://127.0.0.1:45703\n",
       "                        </td>\n",
       "                        <td style=\"text-align: left;\"></td>\n",
       "                    </tr>\n",
       "                    <tr>\n",
       "                        <td colspan=\"2\" style=\"text-align: left;\">\n",
       "                            <strong>Local directory: </strong> /jobfs/82314268.gadi-pbs/dask-worker-space/worker-iw685knv\n",
       "                        </td>\n",
       "                    </tr>\n",
       "\n",
       "                    \n",
       "\n",
       "                    \n",
       "\n",
       "                </table>\n",
       "            </details>\n",
       "            </div>\n",
       "        </div>\n",
       "        \n",
       "        <div style=\"margin-bottom: 20px;\">\n",
       "            <div style=\"width: 24px; height: 24px; background-color: #DBF5FF; border: 3px solid #4CC9FF; border-radius: 5px; position: absolute;\"> </div>\n",
       "            <div style=\"margin-left: 48px;\">\n",
       "            <details>\n",
       "                <summary>\n",
       "                    <h4 style=\"margin-bottom: 0px; display: inline;\">Worker: 1</h4>\n",
       "                </summary>\n",
       "                <table style=\"width: 100%; text-align: left;\">\n",
       "                    <tr>\n",
       "                        <td style=\"text-align: left;\">\n",
       "                            <strong>Comm: </strong> tcp://127.0.0.1:38673\n",
       "                        </td>\n",
       "                        <td style=\"text-align: left;\">\n",
       "                            <strong>Total threads: </strong> 2\n",
       "                        </td>\n",
       "                    </tr>\n",
       "                    <tr>\n",
       "                        <td style=\"text-align: left;\">\n",
       "                            <strong>Dashboard: </strong> <a href=\"/proxy/37161/status\" target=\"_blank\">/proxy/37161/status</a>\n",
       "                        </td>\n",
       "                        <td style=\"text-align: left;\">\n",
       "                            <strong>Memory: </strong> 8.00 GiB\n",
       "                        </td>\n",
       "                    </tr>\n",
       "                    <tr>\n",
       "                        <td style=\"text-align: left;\">\n",
       "                            <strong>Nanny: </strong> tcp://127.0.0.1:45803\n",
       "                        </td>\n",
       "                        <td style=\"text-align: left;\"></td>\n",
       "                    </tr>\n",
       "                    <tr>\n",
       "                        <td colspan=\"2\" style=\"text-align: left;\">\n",
       "                            <strong>Local directory: </strong> /jobfs/82314268.gadi-pbs/dask-worker-space/worker-ie6zjbbq\n",
       "                        </td>\n",
       "                    </tr>\n",
       "\n",
       "                    \n",
       "\n",
       "                    \n",
       "\n",
       "                </table>\n",
       "            </details>\n",
       "            </div>\n",
       "        </div>\n",
       "        \n",
       "        <div style=\"margin-bottom: 20px;\">\n",
       "            <div style=\"width: 24px; height: 24px; background-color: #DBF5FF; border: 3px solid #4CC9FF; border-radius: 5px; position: absolute;\"> </div>\n",
       "            <div style=\"margin-left: 48px;\">\n",
       "            <details>\n",
       "                <summary>\n",
       "                    <h4 style=\"margin-bottom: 0px; display: inline;\">Worker: 2</h4>\n",
       "                </summary>\n",
       "                <table style=\"width: 100%; text-align: left;\">\n",
       "                    <tr>\n",
       "                        <td style=\"text-align: left;\">\n",
       "                            <strong>Comm: </strong> tcp://127.0.0.1:33991\n",
       "                        </td>\n",
       "                        <td style=\"text-align: left;\">\n",
       "                            <strong>Total threads: </strong> 2\n",
       "                        </td>\n",
       "                    </tr>\n",
       "                    <tr>\n",
       "                        <td style=\"text-align: left;\">\n",
       "                            <strong>Dashboard: </strong> <a href=\"/proxy/38589/status\" target=\"_blank\">/proxy/38589/status</a>\n",
       "                        </td>\n",
       "                        <td style=\"text-align: left;\">\n",
       "                            <strong>Memory: </strong> 8.00 GiB\n",
       "                        </td>\n",
       "                    </tr>\n",
       "                    <tr>\n",
       "                        <td style=\"text-align: left;\">\n",
       "                            <strong>Nanny: </strong> tcp://127.0.0.1:38819\n",
       "                        </td>\n",
       "                        <td style=\"text-align: left;\"></td>\n",
       "                    </tr>\n",
       "                    <tr>\n",
       "                        <td colspan=\"2\" style=\"text-align: left;\">\n",
       "                            <strong>Local directory: </strong> /jobfs/82314268.gadi-pbs/dask-worker-space/worker-cbp_ven6\n",
       "                        </td>\n",
       "                    </tr>\n",
       "\n",
       "                    \n",
       "\n",
       "                    \n",
       "\n",
       "                </table>\n",
       "            </details>\n",
       "            </div>\n",
       "        </div>\n",
       "        \n",
       "        <div style=\"margin-bottom: 20px;\">\n",
       "            <div style=\"width: 24px; height: 24px; background-color: #DBF5FF; border: 3px solid #4CC9FF; border-radius: 5px; position: absolute;\"> </div>\n",
       "            <div style=\"margin-left: 48px;\">\n",
       "            <details>\n",
       "                <summary>\n",
       "                    <h4 style=\"margin-bottom: 0px; display: inline;\">Worker: 3</h4>\n",
       "                </summary>\n",
       "                <table style=\"width: 100%; text-align: left;\">\n",
       "                    <tr>\n",
       "                        <td style=\"text-align: left;\">\n",
       "                            <strong>Comm: </strong> tcp://127.0.0.1:42365\n",
       "                        </td>\n",
       "                        <td style=\"text-align: left;\">\n",
       "                            <strong>Total threads: </strong> 2\n",
       "                        </td>\n",
       "                    </tr>\n",
       "                    <tr>\n",
       "                        <td style=\"text-align: left;\">\n",
       "                            <strong>Dashboard: </strong> <a href=\"/proxy/36965/status\" target=\"_blank\">/proxy/36965/status</a>\n",
       "                        </td>\n",
       "                        <td style=\"text-align: left;\">\n",
       "                            <strong>Memory: </strong> 8.00 GiB\n",
       "                        </td>\n",
       "                    </tr>\n",
       "                    <tr>\n",
       "                        <td style=\"text-align: left;\">\n",
       "                            <strong>Nanny: </strong> tcp://127.0.0.1:35495\n",
       "                        </td>\n",
       "                        <td style=\"text-align: left;\"></td>\n",
       "                    </tr>\n",
       "                    <tr>\n",
       "                        <td colspan=\"2\" style=\"text-align: left;\">\n",
       "                            <strong>Local directory: </strong> /jobfs/82314268.gadi-pbs/dask-worker-space/worker-8h95ef73\n",
       "                        </td>\n",
       "                    </tr>\n",
       "\n",
       "                    \n",
       "\n",
       "                    \n",
       "\n",
       "                </table>\n",
       "            </details>\n",
       "            </div>\n",
       "        </div>\n",
       "        \n",
       "\n",
       "    </details>\n",
       "</div>\n",
       "\n",
       "        </details>\n",
       "    </div>\n",
       "</div>\n",
       "            </details>\n",
       "        \n",
       "\n",
       "    </div>\n",
       "</div>"
      ],
      "text/plain": [
       "<Client: 'tcp://127.0.0.1:37697' processes=4 threads=8, memory=32.00 GiB>"
      ]
     },
     "execution_count": 4,
     "metadata": {},
     "output_type": "execute_result"
    }
   ],
   "source": [
    "client = Client()\n",
    "client"
   ]
  },
  {
   "cell_type": "markdown",
   "id": "1e7c3572-3e96-4008-a112-0aeb63d8cc6b",
   "metadata": {},
   "source": [
    "We will now access a single monthly output for conservation temperature, `temp` for short, from the fourth cycle of ACCESS-OM2-01 (`01deg_jra55v140_iaf_cycle4`). This will give us access to a depth bins, so we can identify the continental shelf break (1,017 depth contour)."
   ]
  },
  {
   "cell_type": "code",
   "execution_count": 6,
   "id": "c4949919-589b-495a-a2ab-87fcc38ee158",
   "metadata": {
    "tags": []
   },
   "outputs": [],
   "source": [
    "#Loading mean temperature data for a single month\n",
    "temp = cc.querying.getvar(varDict['exp'], varDict['var_mod'], session, frequency = varDict['freq'], n = 1)\n",
    "#Extracting data for the Southern Ocean only\n",
    "temp = temp.sel(yt_ocean = slice(-90, -45))"
   ]
  },
  {
   "cell_type": "markdown",
   "id": "7a1d080e-cc72-4535-aaa8-81d7be1551b2",
   "metadata": {},
   "source": [
    "# Extracting data at reference depth to identify continental shelf"
   ]
  },
  {
   "cell_type": "markdown",
   "id": "b1a143a5-f13c-4aa8-9e80-9cc7bd736899",
   "metadata": {},
   "source": [
    "Next, we will extract the grid cells for the contour of our interest. This will a data array where grid cells with temperature values represent grid cells with a depth over 1,017 m and any grid cells with `NaN` represent areas where land mass is present at that depth. Values of `1` are then assigned to any grid cells where water is present at the surface, and a value of `2` is given to any other areas that are deeper. A land mask is also applied based on the surface layer. Finally, to remove any continental shelf areas away from Antarctica, any grid cells from latitude $58^{\\circ}S$ will also be given a value of `2`."
   ]
  },
  {
   "cell_type": "code",
   "execution_count": 31,
   "id": "4f201436-3122-40c9-925b-57a5d3a032af",
   "metadata": {
    "tags": []
   },
   "outputs": [
    {
     "data": {
      "text/plain": [
       "<matplotlib.collections.QuadMesh at 0x14b88e8d2910>"
      ]
     },
     "execution_count": 31,
     "metadata": {},
     "output_type": "execute_result"
    },
    {
     "data": {
      "image/png": "[encoded data removed]",
      "text/plain": [
       "<Figure size 640x480 with 2 Axes>"
      ]
     },
     "metadata": {},
     "output_type": "display_data"
    }
   ],
   "source": [
    "#Extract contour at reference depth (1017 m)\n",
    "cont_1000 = temp.sel(st_ocean = slice(1000, 1100))\n",
    "#Assigning new values and applying land mask\n",
    "cont_1000 = xr.where(~np.isnan(cont_1000), 2, 1).where(~np.isnan(temp.isel(st_ocean = 0)), np.nan)\n",
    "cont_1000 = xr.where(cont_1000.yt_ocean > -58, 2, cont_1000)\n",
    "#Checking result\n",
    "cont_1000.plot()"
   ]
  },
  {
   "cell_type": "markdown",
   "id": "f788cb29-f1df-4984-8351-c01a7b70c107",
   "metadata": {
    "tags": []
   },
   "source": [
    "In the figure above, the continental shelf is represented by the boundary between the purple and yellow areas surrounding the Antarctic continent.  "
   ]
  },
  {
   "cell_type": "markdown",
   "id": "d210606f-6fd3-4e58-baf1-cf4159d793f2",
   "metadata": {},
   "source": [
    "# Saving data \n",
    "Before we can extract the contour of our interest, we need to assign a coordinate reference system (CRS) to our new data array and save it in `tif` format."
   ]
  },
  {
   "cell_type": "code",
   "execution_count": 32,
   "id": "0f0037cd-914e-47e6-8b51-42caed0e01c3",
   "metadata": {
    "tags": []
   },
   "outputs": [
    {
     "data": {
      "text/plain": [
       "<matplotlib.collections.QuadMesh at 0x14b88e8134c0>"
      ]
     },
     "execution_count": 32,
     "metadata": {},
     "output_type": "execute_result"
    },
    {
     "data": {
      "image/png": "[encoded data removed]",
      "text/plain": [
       "<Figure size 640x480 with 2 Axes>"
      ]
     },
     "metadata": {},
     "output_type": "display_data"
    }
   ],
   "source": [
    "#Assign CRS - EPSG 4326 uses coordinates and its datum is WGS84.\n",
    "cont_1000.rio.write_crs('epsg:4326', inplace = True)\n",
    "#Renaming x and y axes so file can be recognised by spatial processing libraries\n",
    "cont_1000 = cont_1000.rename({'xt_ocean': 'x', 'yt_ocean': 'y'})\n",
    "#Removing the depth (st_ocean) dimension as we no longer need this information\n",
    "cont_1000 = cont_1000.squeeze(('st_ocean')).drop(('st_ocean'))\n",
    "#Rearranging dimensions\n",
    "cont_1000 = cont_1000.transpose('time', 'y', 'x')\n",
    "#Checking result - It should match the plot above \n",
    "cont_1000.plot()"
   ]
  },
  {
   "cell_type": "code",
   "execution_count": null,
   "id": "54e9a7a4-01fa-4759-bb3b-890b9a339bd1",
   "metadata": {},
   "outputs": [],
   "source": [
    "#Ensuring folder where outputs will be saved exists\n",
    "os.makedirs(varDict['base_folder'], exist_ok = True)\n",
    "\n",
    "#Saving our data array as tif\n",
    "cont_1000.rio.to_raster(os.path.join(varDict['base_folder'], 'Shelf_Contour_Mask.tif'))"
   ]
  },
  {
   "cell_type": "markdown",
   "id": "a6ee6ff9-9999-432b-a230-e4cd4845ebeb",
   "metadata": {
    "tags": []
   },
   "source": [
    "# Identifying contour for continental shelf\n",
    "For this section, we will use the `gdal` package for spatial analysis."
   ]
  },
  {
   "cell_type": "markdown",
   "id": "d3f059c9-13af-4e15-8f19-90d066f1af6c",
   "metadata": {},
   "source": [
    "## Load `tif` file"
   ]
  },
  {
   "cell_type": "code",
   "execution_count": 34,
   "id": "aaf3a565-dff4-4ba0-8341-393ad6b45030",
   "metadata": {
    "tags": []
   },
   "outputs": [],
   "source": [
    "#Load raster\n",
    "raster = gdal.Open(os.path.join(varDict['base_folder'], 'Shelf_Contour_Mask.tif'))\n",
    "#Load first time step\n",
    "rasterBand = raster.GetRasterBand(1)\n",
    "#Get CRS information\n",
    "proj = osr.SpatialReference(wkt = raster.GetProjection())"
   ]
  },
  {
   "cell_type": "markdown",
   "id": "4c368c47-fa2a-4312-a8dc-5e3803d38a71",
   "metadata": {},
   "source": [
    "## Check values in `tif` file"
   ]
  },
  {
   "cell_type": "code",
   "execution_count": 35,
   "id": "3e795916-8c20-4307-931a-adc82729e707",
   "metadata": {
    "tags": []
   },
   "outputs": [
    {
     "name": "stdout",
     "output_type": "stream",
     "text": [
      "minimum: 1.0 maximum: 2.0\n"
     ]
    }
   ],
   "source": [
    "#Load values as numpy array\n",
    "vals = raster.ReadAsArray()\n",
    "\n",
    "#Check maximum and minimum values (should be 1 and 2)\n",
    "print('minimum:', vals[~np.isnan(vals)].min(), 'maximum:', vals[~np.isnan(vals)].max())"
   ]
  },
  {
   "cell_type": "markdown",
   "id": "cd9fe1e5-6f69-4e6a-9b92-f506f8b86f56",
   "metadata": {
    "tags": []
   },
   "source": [
    "## Create a shapefile where we will store our contour line\n",
    "Note that we will create a shapefile containing two columns: `ID` and `shelf`. These two columns are required by `gdal` to create a contour. In our case, the `shelf` column indicates the boundary of the continental shelf, and `ID` is a unique number identifying each line created."
   ]
  },
  {
   "cell_type": "code",
   "execution_count": 45,
   "id": "c724692b-1cc0-45b7-808d-f64421adfce0",
   "metadata": {
    "tags": []
   },
   "outputs": [
    {
     "data": {
      "text/plain": [
       "0"
      ]
     },
     "execution_count": 45,
     "metadata": {},
     "output_type": "execute_result"
    }
   ],
   "source": [
    "#Provide full file path to where shapefile will be saved\n",
    "contourPath = os.path.join(varDict['base_folder'], 'base_shelf_contour.shp')\n",
    "\n",
    "#Start a new shapefile\n",
    "contourDs = ogr.GetDriverByName('ESRI Shapefile').CreateDataSource(contourPath)\n",
    "#Intermediary shapefile\n",
    "contourShp = contourDs.CreateLayer('contour', proj)\n",
    "#Creating two columns: ID and elevation\n",
    "fieldDef = ogr.FieldDefn('ID', ogr.OFTInteger)\n",
    "contourShp.CreateField(fieldDef)\n",
    "fieldDef = ogr.FieldDefn('shelf', ogr.OFTReal)\n",
    "contourShp.CreateField(fieldDef)"
   ]
  },
  {
   "cell_type": "markdown",
   "id": "09568430-f62a-4dca-9457-7b4a0d780ef8",
   "metadata": {},
   "source": [
    "## Create contour for continental edge\n",
    "Contours will be drawn at the continental edge, which is represented by boundary between grid cells with a value of `1` and `2`. A single point will be created for each grid cell where the shelf was detected. Grid cells with `NaN` values will be ignored when contours are created. This line of code will also save the contour lines to the local disk."
   ]
  },
  {
   "cell_type": "code",
   "execution_count": 46,
   "id": "727bda05-e115-438a-bba5-653195e233a3",
   "metadata": {
    "tags": []
   },
   "outputs": [
    {
     "data": {
      "text/plain": [
       "0"
      ]
     },
     "execution_count": 46,
     "metadata": {},
     "output_type": "execute_result"
    }
   ],
   "source": [
    "gdal.ContourGenerate(rasterBand, 1., 1., [], 1, noDataValue = np.nan, dstLayer = contourShp, idField = 0, elevField = 1)"
   ]
  },
  {
   "cell_type": "markdown",
   "id": "d54f321a-3458-429f-a5ce-7c5d0590ce68",
   "metadata": {},
   "source": [
    "We will remove the intermediary shapefile we no longer need."
   ]
  },
  {
   "cell_type": "code",
   "execution_count": 47,
   "id": "f084b098-0bf4-4c81-9864-25a2c1eb726d",
   "metadata": {
    "tags": []
   },
   "outputs": [],
   "source": [
    "contourDs.Destroy()"
   ]
  },
  {
   "cell_type": "markdown",
   "id": "853c108c-d018-4d14-b4cf-8708f3280fdc",
   "metadata": {},
   "source": [
    "## Checking results\n",
    "We will load the newly created shapefile with `geopandas` and plot it to check the results."
   ]
  },
  {
   "cell_type": "code",
   "execution_count": 49,
   "id": "57516f1e-9c91-4b49-bf41-30f7ffba0f14",
   "metadata": {
    "tags": []
   },
   "outputs": [
    {
     "data": {
      "text/html": [
       "<div>\n",
       "<style scoped>\n",
       "    .dataframe tbody tr th:only-of-type {\n",
       "        vertical-align: middle;\n",
       "    }\n",
       "\n",
       "    .dataframe tbody tr th {\n",
       "        vertical-align: top;\n",
       "    }\n",
       "\n",
       "    .dataframe thead th {\n",
       "        text-align: right;\n",
       "    }\n",
       "</style>\n",
       "<table border=\"1\" class=\"dataframe\">\n",
       "  <thead>\n",
       "    <tr style=\"text-align: right;\">\n",
       "      <th></th>\n",
       "      <th>ID</th>\n",
       "      <th>shelf</th>\n",
       "      <th>geometry</th>\n",
       "    </tr>\n",
       "  </thead>\n",
       "  <tbody>\n",
       "    <tr>\n",
       "      <th>0</th>\n",
       "      <td>0</td>\n",
       "      <td>2.0</td>\n",
       "      <td>LINESTRING (-38.45000 -77.71615, -38.40000 -77...</td>\n",
       "    </tr>\n",
       "    <tr>\n",
       "      <th>1</th>\n",
       "      <td>1</td>\n",
       "      <td>2.0</td>\n",
       "      <td>LINESTRING (-152.25000 -76.12974, -152.25000 -...</td>\n",
       "    </tr>\n",
       "    <tr>\n",
       "      <th>2</th>\n",
       "      <td>2</td>\n",
       "      <td>2.0</td>\n",
       "      <td>LINESTRING (-38.05000 -77.76496, -38.00000 -77...</td>\n",
       "    </tr>\n",
       "    <tr>\n",
       "      <th>3</th>\n",
       "      <td>3</td>\n",
       "      <td>2.0</td>\n",
       "      <td>LINESTRING (-107.60000 -74.03080, -107.65000 -...</td>\n",
       "    </tr>\n",
       "    <tr>\n",
       "      <th>4</th>\n",
       "      <td>4</td>\n",
       "      <td>2.0</td>\n",
       "      <td>LINESTRING (-101.75000 -73.98198, -101.75000 -...</td>\n",
       "    </tr>\n",
       "    <tr>\n",
       "      <th>...</th>\n",
       "      <td>...</td>\n",
       "      <td>...</td>\n",
       "      <td>...</td>\n",
       "    </tr>\n",
       "    <tr>\n",
       "      <th>123</th>\n",
       "      <td>123</td>\n",
       "      <td>2.0</td>\n",
       "      <td>LINESTRING (-198.45000 -55.87248, -198.35000 -...</td>\n",
       "    </tr>\n",
       "    <tr>\n",
       "      <th>124</th>\n",
       "      <td>124</td>\n",
       "      <td>2.0</td>\n",
       "      <td>LINESTRING (78.75000 -55.87248, 78.85000 -55.9...</td>\n",
       "    </tr>\n",
       "    <tr>\n",
       "      <th>125</th>\n",
       "      <td>125</td>\n",
       "      <td>2.0</td>\n",
       "      <td>LINESTRING (-25.15000 -55.82367, -25.05000 -55...</td>\n",
       "    </tr>\n",
       "    <tr>\n",
       "      <th>126</th>\n",
       "      <td>126</td>\n",
       "      <td>2.0</td>\n",
       "      <td>LINESTRING (77.25000 -55.62842, 77.35000 -55.6...</td>\n",
       "    </tr>\n",
       "    <tr>\n",
       "      <th>127</th>\n",
       "      <td>127</td>\n",
       "      <td>2.0</td>\n",
       "      <td>LINESTRING (-26.25000 -55.57961, -26.15000 -55...</td>\n",
       "    </tr>\n",
       "  </tbody>\n",
       "</table>\n",
       "<p>128 rows × 3 columns</p>\n",
       "</div>"
      ],
      "text/plain": [
       "      ID  shelf                                           geometry\n",
       "0      0    2.0  LINESTRING (-38.45000 -77.71615, -38.40000 -77...\n",
       "1      1    2.0  LINESTRING (-152.25000 -76.12974, -152.25000 -...\n",
       "2      2    2.0  LINESTRING (-38.05000 -77.76496, -38.00000 -77...\n",
       "3      3    2.0  LINESTRING (-107.60000 -74.03080, -107.65000 -...\n",
       "4      4    2.0  LINESTRING (-101.75000 -73.98198, -101.75000 -...\n",
       "..   ...    ...                                                ...\n",
       "123  123    2.0  LINESTRING (-198.45000 -55.87248, -198.35000 -...\n",
       "124  124    2.0  LINESTRING (78.75000 -55.87248, 78.85000 -55.9...\n",
       "125  125    2.0  LINESTRING (-25.15000 -55.82367, -25.05000 -55...\n",
       "126  126    2.0  LINESTRING (77.25000 -55.62842, 77.35000 -55.6...\n",
       "127  127    2.0  LINESTRING (-26.25000 -55.57961, -26.15000 -55...\n",
       "\n",
       "[128 rows x 3 columns]"
      ]
     },
     "execution_count": 49,
     "metadata": {},
     "output_type": "execute_result"
    }
   ],
   "source": [
    "#Load shapefile\n",
    "base_contour = gp.read_file(os.path.join(varDict['base_folder'], 'base_shelf_contour.shp'))\n",
    "\n",
    "#Check contents\n",
    "base_contour"
   ]
  },
  {
   "cell_type": "markdown",
   "id": "9a8d94cd-f4a9-4a40-9b40-6792d836cb31",
   "metadata": {
    "tags": []
   },
   "source": [
    "Plotting shapefile around Antarctic continent"
   ]
  },
  {
   "cell_type": "code",
   "execution_count": 86,
   "id": "50930c56-6f9a-406e-bac9-49d157156b58",
   "metadata": {
    "tags": []
   },
   "outputs": [
    {
     "data": {
      "text/plain": [
       "<cartopy.mpl.feature_artist.FeatureArtist at 0x1530a57dbf10>"
      ]
     },
     "execution_count": 86,
     "metadata": {},
     "output_type": "execute_result"
    },
    {
     "data": {
      "image/png": "[encoded data removed]",
      "text/plain": [
       "<Figure size 250x900 with 1 Axes>"
      ]
     },
     "metadata": {},
     "output_type": "display_data"
    }
   ],
   "source": [
    "#Creating figure\n",
    "fig = plt.figure(figsize = (2.5, 9))\n",
    "#Assigning South Pole Stereographic projection\n",
    "ax = fig.add_subplot(projection = ccrs.SouthPolarStereo())\n",
    "\n",
    "#Getting land mask with slight transparency\n",
    "land = cft.NaturalEarthFeature('physical', 'land', '50m', edgecolor = 'black', facecolor = 'gray', linewidth = 0.5, alpha = 0.5)\n",
    "\n",
    "#Plotting contour and land\n",
    "base_contour.plot(ax = ax, transform = ccrs.PlateCarree())\n",
    "ax.add_feature(land)"
   ]
  },
  {
   "cell_type": "markdown",
   "id": "e7e0f2f9-bc64-4b68-ab46-55b4475d8fcb",
   "metadata": {
    "tags": []
   },
   "source": [
    "**Note:** We can see that the continental shelf has been identified correctly. However, there are some smaller polygons inside and outside the shelf polygon that will need to be manually removed before calculating distances to the continental shelf. We did not find a way to automate the identification of the continental shelf in `Python`. Instead, we used [QGIS](https://www.qgis.org/en/site/), an open software geographic information system that allows editing of geospatial data."
   ]
  },
  {
   "cell_type": "markdown",
   "id": "da88267d-3bf0-46c3-885a-57b213cc70ad",
   "metadata": {},
   "source": [
    "# Loading correcting continental shelf contour"
   ]
  },
  {
   "cell_type": "code",
   "execution_count": 113,
   "id": "0de47138-57d2-467e-b415-0262bffd3e79",
   "metadata": {
    "tags": []
   },
   "outputs": [
    {
     "data": {
      "text/html": [
       "<div>\n",
       "<style scoped>\n",
       "    .dataframe tbody tr th:only-of-type {\n",
       "        vertical-align: middle;\n",
       "    }\n",
       "\n",
       "    .dataframe tbody tr th {\n",
       "        vertical-align: top;\n",
       "    }\n",
       "\n",
       "    .dataframe thead th {\n",
       "        text-align: right;\n",
       "    }\n",
       "</style>\n",
       "<table border=\"1\" class=\"dataframe\">\n",
       "  <thead>\n",
       "    <tr style=\"text-align: right;\">\n",
       "      <th></th>\n",
       "      <th>ID</th>\n",
       "      <th>shelf</th>\n",
       "      <th>geometry</th>\n",
       "    </tr>\n",
       "  </thead>\n",
       "  <tbody>\n",
       "    <tr>\n",
       "      <th>0</th>\n",
       "      <td>16</td>\n",
       "      <td>2.0</td>\n",
       "      <td>LINESTRING (-25.60000 -73.05454, -25.65000 -73...</td>\n",
       "    </tr>\n",
       "    <tr>\n",
       "      <th>1</th>\n",
       "      <td>17</td>\n",
       "      <td>2.0</td>\n",
       "      <td>LINESTRING (-24.65000 -72.88370, -24.65000 -72...</td>\n",
       "    </tr>\n",
       "    <tr>\n",
       "      <th>2</th>\n",
       "      <td>21</td>\n",
       "      <td>2.0</td>\n",
       "      <td>LINESTRING (-24.45000 -72.83488, -24.45000 -72...</td>\n",
       "    </tr>\n",
       "    <tr>\n",
       "      <th>3</th>\n",
       "      <td>27</td>\n",
       "      <td>2.0</td>\n",
       "      <td>LINESTRING (-23.95000 -72.73726, -23.95000 -72...</td>\n",
       "    </tr>\n",
       "    <tr>\n",
       "      <th>4</th>\n",
       "      <td>28</td>\n",
       "      <td>2.0</td>\n",
       "      <td>LINESTRING (-19.05000 -71.37050, -19.05000 -71...</td>\n",
       "    </tr>\n",
       "    <tr>\n",
       "      <th>5</th>\n",
       "      <td>30</td>\n",
       "      <td>2.0</td>\n",
       "      <td>LINESTRING (-18.75000 -71.32169, -18.75000 -71...</td>\n",
       "    </tr>\n",
       "    <tr>\n",
       "      <th>6</th>\n",
       "      <td>35</td>\n",
       "      <td>2.0</td>\n",
       "      <td>LINESTRING (19.45000 -68.19768, 19.50000 -68.1...</td>\n",
       "    </tr>\n",
       "    <tr>\n",
       "      <th>7</th>\n",
       "      <td>36</td>\n",
       "      <td>2.0</td>\n",
       "      <td>LINESTRING (-18.25000 -71.27288, -18.25000 -71...</td>\n",
       "    </tr>\n",
       "    <tr>\n",
       "      <th>8</th>\n",
       "      <td>37</td>\n",
       "      <td>2.0</td>\n",
       "      <td>LINESTRING (20.85000 -68.05124, 20.90000 -68.0...</td>\n",
       "    </tr>\n",
       "    <tr>\n",
       "      <th>9</th>\n",
       "      <td>38</td>\n",
       "      <td>2.0</td>\n",
       "      <td>LINESTRING (20.15000 -68.00243, 20.20000 -67.9...</td>\n",
       "    </tr>\n",
       "    <tr>\n",
       "      <th>10</th>\n",
       "      <td>39</td>\n",
       "      <td>2.0</td>\n",
       "      <td>LINESTRING (-0.25000 -67.85599, -0.25000 -67.8...</td>\n",
       "    </tr>\n",
       "    <tr>\n",
       "      <th>11</th>\n",
       "      <td>40</td>\n",
       "      <td>2.0</td>\n",
       "      <td>LINESTRING (0.10000 -67.88040, 0.15000 -67.880...</td>\n",
       "    </tr>\n",
       "    <tr>\n",
       "      <th>12</th>\n",
       "      <td>72</td>\n",
       "      <td>2.0</td>\n",
       "      <td>LINESTRING (21.30000 -68.12446, 21.35000 -68.1...</td>\n",
       "    </tr>\n",
       "    <tr>\n",
       "      <th>13</th>\n",
       "      <td>105</td>\n",
       "      <td>2.0</td>\n",
       "      <td>LINESTRING (-280.00000 -63.63370, -279.95000 -...</td>\n",
       "    </tr>\n",
       "  </tbody>\n",
       "</table>\n",
       "</div>"
      ],
      "text/plain": [
       "     ID  shelf                                           geometry\n",
       "0    16    2.0  LINESTRING (-25.60000 -73.05454, -25.65000 -73...\n",
       "1    17    2.0  LINESTRING (-24.65000 -72.88370, -24.65000 -72...\n",
       "2    21    2.0  LINESTRING (-24.45000 -72.83488, -24.45000 -72...\n",
       "3    27    2.0  LINESTRING (-23.95000 -72.73726, -23.95000 -72...\n",
       "4    28    2.0  LINESTRING (-19.05000 -71.37050, -19.05000 -71...\n",
       "5    30    2.0  LINESTRING (-18.75000 -71.32169, -18.75000 -71...\n",
       "6    35    2.0  LINESTRING (19.45000 -68.19768, 19.50000 -68.1...\n",
       "7    36    2.0  LINESTRING (-18.25000 -71.27288, -18.25000 -71...\n",
       "8    37    2.0  LINESTRING (20.85000 -68.05124, 20.90000 -68.0...\n",
       "9    38    2.0  LINESTRING (20.15000 -68.00243, 20.20000 -67.9...\n",
       "10   39    2.0  LINESTRING (-0.25000 -67.85599, -0.25000 -67.8...\n",
       "11   40    2.0  LINESTRING (0.10000 -67.88040, 0.15000 -67.880...\n",
       "12   72    2.0  LINESTRING (21.30000 -68.12446, 21.35000 -68.1...\n",
       "13  105    2.0  LINESTRING (-280.00000 -63.63370, -279.95000 -..."
      ]
     },
     "execution_count": 113,
     "metadata": {},
     "output_type": "execute_result"
    }
   ],
   "source": [
    "corrected_contour = gp.read_file(os.path.join(varDict['base_folder'], 'corrected_shelf_contour.shp'))\n",
    "corrected_contour"
   ]
  },
  {
   "cell_type": "markdown",
   "id": "7e3826e4-0200-4062-915d-b7c94b54e52b",
   "metadata": {},
   "source": [
    "We can see that the corrected shelf contour has about $10\\%$ of the rows that the uncorrected contour had. We can plot the result to check the results are correct."
   ]
  },
  {
   "cell_type": "code",
   "execution_count": 114,
   "id": "cfd9e4df-6559-4ba3-8b02-3f89b571c923",
   "metadata": {
    "tags": []
   },
   "outputs": [
    {
     "data": {
      "text/plain": [
       "<cartopy.mpl.feature_artist.FeatureArtist at 0x15309fa60970>"
      ]
     },
     "execution_count": 114,
     "metadata": {},
     "output_type": "execute_result"
    },
    {
     "data": {
      "image/png": "[encoded data removed]",
      "text/plain": [
       "<Figure size 250x900 with 1 Axes>"
      ]
     },
     "metadata": {},
     "output_type": "display_data"
    }
   ],
   "source": [
    "#Checking corrected boundaries\n",
    "#Creating figure\n",
    "fig = plt.figure(figsize = (2.5, 9))\n",
    "#Assigning South Pole Stereographic projection\n",
    "ax = fig.add_subplot(projection = ccrs.SouthPolarStereo())\n",
    "\n",
    "#Getting land mask with slight transparency\n",
    "land = cft.NaturalEarthFeature('physical', 'land', '50m', edgecolor = 'black', facecolor = 'gray', linewidth = 0.5, alpha = 0.5)\n",
    "\n",
    "#Plotting contour and land\n",
    "corrected_contour.plot(ax = ax, transform = ccrs.PlateCarree())\n",
    "ax.add_feature(land)"
   ]
  },
  {
   "cell_type": "markdown",
   "id": "3b664095-1e43-4f3b-8fda-8f9e583f7f14",
   "metadata": {
    "tags": []
   },
   "source": [
    "# Calculating distance to closest point along continental shelf grid cell\n",
    "We will apply the following steps to get the distance from each grid cell to the continental shelf:\n",
    "1. Get coordinate pairs for all points along the continental shelf,\n",
    "2. Get coordinate pairs for original dataset to calculate distances to closest shelf point,\n",
    "3. Use Nearest Neighbour algorithm (`BallTree`) to calculate distance to closest continental shelf,\n",
    "4. Transform distance from radians to kilometers and store result in a data array,\n",
    "5. Save output to disk (optional)."
   ]
  },
  {
   "cell_type": "markdown",
   "id": "a752945b-8438-4734-81e3-329b96e259a5",
   "metadata": {},
   "source": [
    "## Extracting coordinate pairs for each point along shelf contour"
   ]
  },
  {
   "cell_type": "code",
   "execution_count": 129,
   "id": "b67b15c0-8cee-4b1c-9c47-ddd3756872e0",
   "metadata": {
    "tags": []
   },
   "outputs": [
    {
     "data": {
      "text/plain": [
       "array([[-73.05454171, -25.6       ],\n",
       "       [-73.03013545, -25.64999985],\n",
       "       [-73.00572911, -25.6499999 ],\n",
       "       ...,\n",
       "       [-73.20097978, -25.6499999 ],\n",
       "       [-73.17657345, -25.64999985],\n",
       "       [-73.15216719, -25.6       ]])"
      ]
     },
     "execution_count": 129,
     "metadata": {},
     "output_type": "execute_result"
    }
   ],
   "source": [
    "#Empty list to store latitude and coordinate pairs\n",
    "lon = []\n",
    "lat = []\n",
    "\n",
    "#Looping through every row in the shelf contour shapefile\n",
    "for index, row in corrected_contour.iterrows():\n",
    "    #Extracting coordinates for each point along each row\n",
    "    for point in list(row.geometry.coords):\n",
    "        #Saving coordinates to empty variables\n",
    "        lon.append(point[0])\n",
    "        lat.append(point[1])\n",
    "        \n",
    "#Create coordinate pairs for each point along the continental shelf break\n",
    "shelf_coords = np.vstack([lat, lon]).T\n",
    "shelf_coords"
   ]
  },
  {
   "cell_type": "markdown",
   "id": "25bd5efa-e30c-41c2-afc7-ab211b1c77ce",
   "metadata": {},
   "source": [
    "## Getting coordinate pairs for each cell in the original grid\n",
    "We will use the latitude and longitude values in our original data to create coordinate pairs. We will also need to transform coordinate pairs from coordinates to radians as this is needed in the calculation of distances."
   ]
  },
  {
   "cell_type": "code",
   "execution_count": 132,
   "id": "304d6a4b-11bd-4fd9-ab78-f113014a0fd1",
   "metadata": {
    "tags": []
   },
   "outputs": [
    {
     "data": {
      "text/plain": [
       "array([[-1.41561267, -4.88604924],\n",
       "       [-1.41561267, -4.88430391],\n",
       "       [-1.41561267, -4.88255858],\n",
       "       ...,\n",
       "       [-0.78602773,  1.39190008],\n",
       "       [-0.78602773,  1.39364541],\n",
       "       [-0.78602773,  1.39539074]])"
      ]
     },
     "execution_count": 132,
     "metadata": {},
     "output_type": "execute_result"
    }
   ],
   "source": [
    "#Storing longitude and latitude values\n",
    "x, y = np.meshgrid(np.deg2rad(cont_1000.x.values),\n",
    "                   np.deg2rad(cont_1000.y.values))\n",
    "\n",
    "#Changing shape so there are two values per row\n",
    "grid_coords = np.vstack([y.flat, x.flat]).T\n",
    "\n",
    "#Removing variables not needed\n",
    "del x, y\n",
    "\n",
    "#Checking result\n",
    "grid_coords"
   ]
  },
  {
   "cell_type": "markdown",
   "id": "01833022-a753-4173-a25e-17ed74a0d601",
   "metadata": {},
   "source": [
    "## Applying Nearest Neighbour algorithm to calculate distance to closest continental shelf"
   ]
  },
  {
   "cell_type": "code",
   "execution_count": 141,
   "id": "e7066658-cb1e-483c-a61f-456a3304746f",
   "metadata": {
    "tags": []
   },
   "outputs": [],
   "source": [
    "#Set up Ball Tree. Coordinates must be given in radians\n",
    "balltree = BallTree(np.deg2rad(shelf_coords), metric = 'haversine')\n",
    "\n",
    "#Calculate nearest neighbour distances. Function gives two outputs: distances (in radians) and indices\n",
    "dist_rad, ind = balltree.query(grid_coords, return_distance = True)"
   ]
  },
  {
   "cell_type": "markdown",
   "id": "89eaa553-a336-4f38-838a-ac42b2265b12",
   "metadata": {},
   "source": [
    "## Transforming nearest neighbour distances from radians to kilometers\n",
    "The `BallTree` algorithm calculates distances in radians, which we will transform into kilometers by multiplying by the Earth's radius in kilometers. We will also store the results in a data array to make any calculations easier.  \n",
    "  \n",
    "The new data array will have the same shape as our original `temp` grid."
   ]
  },
  {
   "cell_type": "code",
   "execution_count": 138,
   "id": "3ed85850-0f76-4da6-995f-d6d5f6abefa8",
   "metadata": {
    "tags": []
   },
   "outputs": [],
   "source": [
    "#Earth radius in km\n",
    "earth_radius_km = 6371\n",
    "\n",
    "#Transforming radians and reshaping data\n",
    "dist_km = xr.DataArray(data = (dist_rad*earth_radius_km).reshape(cont_1000.isel(time = 0).shape),\n",
    "                           dims = ['yt_ocean', 'xt_ocean'],\n",
    "                           coords = {'yt_ocean': cont_1000.y.values,\n",
    "                                     'xt_ocean': cont_1000.x.values},\n",
    "                           name = 'dist_km')\n",
    "dist_km = dist_km.assign_attrs({'units': 'km',\n",
    "                                'long_name': 'distance to nearest neighbour'})"
   ]
  },
  {
   "cell_type": "markdown",
   "id": "8df1c3de-7912-46ff-905c-a501ae7d8603",
   "metadata": {},
   "source": [
    "## Plotting results\n",
    "We will plot the distances calculated in the previous steps with the shelf contour line overlaid on top."
   ]
  },
  {
   "cell_type": "code",
   "execution_count": 153,
   "id": "5a4d752b-6d64-40c9-8cfc-75abff2e344d",
   "metadata": {
    "tags": []
   },
   "outputs": [
    {
     "data": {
      "text/plain": [
       "<AxesSubplot:xlabel='xt_ocean', ylabel='yt_ocean'>"
      ]
     },
     "execution_count": 153,
     "metadata": {},
     "output_type": "execute_result"
    },
    {
     "data": {
      "image/png": "[encoded data removed]",
      "text/plain": [
       "<Figure size 640x480 with 1 Axes>"
      ]
     },
     "metadata": {},
     "output_type": "display_data"
    }
   ],
   "source": [
    "fig, ax = plt.subplots(1, 1)\n",
    "p1 = dist_km.plot(ax = ax, add_colorbar = False)\n",
    "corrected_contour.plot(ax = ax, color = 'red')"
   ]
  },
  {
   "cell_type": "markdown",
   "id": "a852f851-2540-4e73-a1fc-4f59853aef99",
   "metadata": {},
   "source": [
    "# Saving results to disk"
   ]
  },
  {
   "cell_type": "code",
   "execution_count": 144,
   "id": "653e627f-c8ae-4cb2-9290-0d7721364475",
   "metadata": {
    "tags": []
   },
   "outputs": [],
   "source": [
    "dist_km.to_netcdf(os.path.join(varDict['base_folder'], 'Corrected_Shelf_Contour.nc'))"
   ]
  }
 ],
 "metadata": {
  "kernelspec": {
   "display_name": "Python [conda env:analysis3-22.10]",
   "language": "python",
   "name": "conda-env-analysis3-22.10-py"
  },
  "language_info": {
   "codemirror_mode": {
    "name": "ipython",
    "version": 3
   },
   "file_extension": ".py",
   "mimetype": "text/x-python",
   "name": "python",
   "nbconvert_exporter": "python",
   "pygments_lexer": "ipython3",
   "version": "3.9.15"
  },
  "toc-autonumbering": true
 },
 "nbformat": 4,
 "nbformat_minor": 5
}
