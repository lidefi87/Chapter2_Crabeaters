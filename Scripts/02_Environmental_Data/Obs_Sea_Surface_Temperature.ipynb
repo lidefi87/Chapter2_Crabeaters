{
 "cells": [
  {
   "cell_type": "markdown",
   "id": "4d59aead-f8a3-4f04-8be2-63aed9caa9d4",
   "metadata": {},
   "source": [
    "<font size=\"8\"> **Accessing sea surface temperature data from NOAA** </font>  \n",
    "This notebook access the [NOAA $1/4^{\\circ}$ Daily Optimum Interpolation Sea Surface Temperature (OISST)](https://www.ncei.noaa.gov/products/optimum-interpolation-sst) (version 2.1) dataset available in Gadi.  \n",
    "\n",
    "The SST data is then regridded to match ACCESS-OM2-01 model outputs."
   ]
  },
  {
   "cell_type": "markdown",
   "id": "4cff2353-226c-4abb-935d-ae065b596e4d",
   "metadata": {},
   "source": [
    "# Setting working directory\n",
    "In order to ensure these notebooks work correctly, we will set the working directory. We assume that you have saved a copy of this repository in your home directory (represented by `~` in the code chunk below). If you have saved this repository elsewhere in your machine, you need to ensure you update this line with the correct filepath where you saved these notebooks."
   ]
  },
  {
   "cell_type": "code",
   "execution_count": 1,
   "id": "f9221851-2d99-4ae3-8850-821cf46732ac",
   "metadata": {},
   "outputs": [],
   "source": [
    "import os\n",
    "#Ensure you update this filepath if you have saved these notebooks elsewhere in your machine\n",
    "os.chdir(os.path.expanduser('~/Chapter2_Crabeaters/Scripts'))"
   ]
  },
  {
   "cell_type": "markdown",
   "id": "cab58e57-77dc-4149-908e-62fc37efe98b",
   "metadata": {},
   "source": [
    "# Loading relevant libraries"
   ]
  },
  {
   "cell_type": "code",
   "execution_count": 2,
   "id": "01ebc57f-be55-48f3-bef9-82d7e0e238b0",
   "metadata": {},
   "outputs": [],
   "source": [
    "#Loading and manipulating data\n",
    "import cosima_cookbook as cc\n",
    "import xarray as xr\n",
    "import numpy as np\n",
    "import pandas as pd\n",
    "import re\n",
    "from glob import glob\n",
    "from dask.distributed import Client\n",
    "import rioxarray\n",
    "import xesmf as xe\n",
    "\n",
    "#Analysis module\n",
    "import UsefulFunctions as uf\n",
    "\n",
    "#Packages for plotting\n",
    "import matplotlib.pyplot as plt\n",
    "\n",
    "#Show plots produced by matplotlib inside this Jupyter notebook\n",
    "%matplotlib inline"
   ]
  },
  {
   "cell_type": "markdown",
   "id": "2889be51-5517-4666-b813-a958f7a01caa",
   "metadata": {},
   "source": [
    "## Parallelising work"
   ]
  },
  {
   "cell_type": "code",
   "execution_count": 3,
   "id": "dc047f9d-c213-4e66-b262-8c1adae024fb",
   "metadata": {},
   "outputs": [],
   "source": [
    "client = Client()"
   ]
  },
  {
   "cell_type": "markdown",
   "id": "a5b26557-1de5-499b-82ec-e7f679159bdd",
   "metadata": {},
   "source": [
    "# Accessing sea surface temperature data from observations"
   ]
  },
  {
   "cell_type": "code",
   "execution_count": 7,
   "id": "2588a44b-09ca-4ed4-9309-2bc395e744b3",
   "metadata": {
    "tags": []
   },
   "outputs": [
    {
     "ename": "FileNotFoundError",
     "evalue": "[Errno 2] No such file or directory: '/g/data/ia39/'",
     "output_type": "error",
     "traceback": [
      "\u001b[0;31m---------------------------------------------------------------------------\u001b[0m",
      "\u001b[0;31mFileNotFoundError\u001b[0m                         Traceback (most recent call last)",
      "Cell \u001b[0;32mIn[7], line 1\u001b[0m\n\u001b[0;32m----> 1\u001b[0m \u001b[43mos\u001b[49m\u001b[38;5;241;43m.\u001b[39;49m\u001b[43mlistdir\u001b[49m\u001b[43m(\u001b[49m\u001b[38;5;124;43m'\u001b[39;49m\u001b[38;5;124;43m/g/data/ia39/\u001b[39;49m\u001b[38;5;124;43m'\u001b[39;49m\u001b[43m)\u001b[49m\n",
      "\u001b[0;31mFileNotFoundError\u001b[0m: [Errno 2] No such file or directory: '/g/data/ia39/'"
     ]
    }
   ],
   "source": [
    "os.listdir('/g/data/ia39/')\n"
   ]
  }
 ],
 "metadata": {
  "kernelspec": {
   "display_name": "Python [conda env:analysis3-23.01] *",
   "language": "python",
   "name": "conda-env-analysis3-23.01-py"
  },
  "language_info": {
   "codemirror_mode": {
    "name": "ipython",
    "version": 3
   },
   "file_extension": ".py",
   "mimetype": "text/x-python",
   "name": "python",
   "nbconvert_exporter": "python",
   "pygments_lexer": "ipython3",
   "version": "3.9.15"
  }
 },
 "nbformat": 4,
 "nbformat_minor": 5
}
